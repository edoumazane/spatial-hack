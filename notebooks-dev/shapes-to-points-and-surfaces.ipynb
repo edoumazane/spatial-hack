{
 "cells": [
  {
   "cell_type": "markdown",
   "metadata": {},
   "source": [
    "# Data conversion to meshes and \"graphs\"\n",
    "(here: graph is centers and vectors) for 3D visualization"
   ]
  },
  {
   "cell_type": "code",
   "execution_count": 88,
   "metadata": {},
   "outputs": [],
   "source": [
    "# napari-spatialdata dev Python 3.12.8\n",
    "import pandas as pd\n",
    "import napari\n",
    "import numpy as np\n",
    "from tqdm import tqdm\n",
    "import vedo\n",
    "from pathlib import Path\n",
    "data_dir = Path(\"/Users/edmz/data/st/Fang_preprint/mouse_cortex_100um/\")\n",
    "path = data_dir / \"feature_boundaries.pkl\"\n",
    "# 76355 instances\n",
    "# 305420 vectors"
   ]
  },
  {
   "cell_type": "code",
   "execution_count": null,
   "metadata": {},
   "outputs": [],
   "source": [
    "# 17s\n",
    "df = pd.read_pickle(path)"
   ]
  },
  {
   "cell_type": "code",
   "execution_count": 3,
   "metadata": {},
   "outputs": [],
   "source": [
    "# 2 s\n",
    "z_column = 'center_z'\n",
    "df = df.groupby('id')[z_column].apply(\n",
    "    pd.Series.to_list).to_frame().join(\n",
    "        df.groupby('id')[\"geometry\"].apply(pd.Series.to_list).to_frame())\n",
    "df[\"instance_id\"] = range(len(df))\n"
   ]
  },
  {
   "cell_type": "code",
   "execution_count": null,
   "metadata": {},
   "outputs": [
    {
     "name": "stderr",
     "output_type": "stream",
     "text": [
      "  0%|          | 0/76355 [00:00<?, ?it/s]"
     ]
    },
    {
     "name": "stderr",
     "output_type": "stream",
     "text": [
      "  0%|          | 369/76355 [00:02<07:18, 173.30it/s]\u001b[0m\u001b[33m2025-03-17 06:30:23.370 (  96.680s) [          3B18FC]      vtkDelaunay3D.cxx:514   WARN| vtkDelaunay3D (0x6939df550): 1 degenerate triangles encountered, mesh quality suspect\u001b[0m\n",
      "  2%|▏         | 1213/76355 [00:07<07:05, 176.42it/s]\u001b[0m\u001b[33m2025-03-17 06:30:28.216 ( 101.526s) [          3B18FC]            vtkMath.cxx:570   WARN| Unable to factor linear system\u001b[0m\n",
      "  3%|▎         | 2002/76355 [00:11<08:10, 151.60it/s]\u001b[0m\u001b[33m2025-03-17 06:30:32.933 ( 106.243s) [          3B18FC]      vtkDelaunay3D.cxx:514   WARN| vtkDelaunay3D (0x12c62dc10): 1 degenerate triangles encountered, mesh quality suspect\u001b[0m\n",
      "  3%|▎         | 2075/76355 [00:12<07:10, 172.45it/s]\u001b[0m\u001b[33m2025-03-17 06:30:33.281 ( 106.591s) [          3B18FC]            vtkMath.cxx:570   WARN| Unable to factor linear system\u001b[0m\n",
      "  3%|▎         | 2149/76355 [00:12<07:13, 171.17it/s]\u001b[0m\u001b[33m2025-03-17 06:30:33.749 ( 107.060s) [          3B18FC]            vtkMath.cxx:570   WARN| Unable to factor linear system\u001b[0m\n",
      "  3%|▎         | 2315/76355 [00:13<07:08, 172.81it/s]\u001b[0m\u001b[33m2025-03-17 06:30:34.720 ( 108.030s) [          3B18FC]      vtkDelaunay3D.cxx:514   WARN| vtkDelaunay3D (0x12cb1f270): 1 degenerate triangles encountered, mesh quality suspect\u001b[0m\n",
      "  3%|▎         | 2585/76355 [00:15<07:42, 159.65it/s]\u001b[0m\u001b[33m2025-03-17 06:30:36.301 ( 109.611s) [          3B18FC]      vtkDelaunay3D.cxx:514   WARN| vtkDelaunay3D (0x12d77e5b0): 1 degenerate triangles encountered, mesh quality suspect\u001b[0m\n",
      "  4%|▍         | 3198/76355 [00:18<07:27, 163.60it/s]\u001b[0m\u001b[33m2025-03-17 06:30:39.847 ( 113.158s) [          3B18FC]      vtkDelaunay3D.cxx:514   WARN| vtkDelaunay3D (0x12ecccec0): 1 degenerate triangles encountered, mesh quality suspect\u001b[0m\n",
      "  4%|▍         | 3286/76355 [00:19<07:32, 161.50it/s]\u001b[0m\u001b[33m2025-03-17 06:30:40.397 ( 113.707s) [          3B18FC]            vtkMath.cxx:570   WARN| Unable to factor linear system\u001b[0m\n",
      "  4%|▍         | 3303/76355 [00:19<07:59, 152.31it/s]\u001b[0m\u001b[33m2025-03-17 06:30:40.529 ( 113.839s) [          3B18FC]      vtkDelaunay3D.cxx:514   WARN| vtkDelaunay3D (0x12f295580): 1 degenerate triangles encountered, mesh quality suspect\u001b[0m\n",
      "  5%|▍         | 3734/76355 [00:22<07:07, 169.95it/s]\u001b[0m\u001b[33m2025-03-17 06:30:43.152 ( 116.462s) [          3B18FC]            vtkMath.cxx:570   WARN| Unable to factor linear system\u001b[0m\n",
      "  5%|▌         | 3863/76355 [00:22<07:44, 156.15it/s]\u001b[0m\u001b[33m2025-03-17 06:30:43.873 ( 117.183s) [          3B18FC]      vtkDelaunay3D.cxx:514   WARN| vtkDelaunay3D (0x143d81790): 1 degenerate triangles encountered, mesh quality suspect\u001b[0m\n",
      "  5%|▌         | 4007/76355 [00:23<07:01, 171.56it/s]\u001b[0m\u001b[33m2025-03-17 06:30:44.689 ( 118.000s) [          3B18FC]      vtkDelaunay3D.cxx:514   WARN| vtkDelaunay3D (0x145a7dc20): 1 degenerate triangles encountered, mesh quality suspect\u001b[0m\n",
      "  6%|▌         | 4366/76355 [00:25<07:04, 169.60it/s]\u001b[0m\u001b[33m2025-03-17 06:30:46.730 ( 120.040s) [          3B18FC]            vtkMath.cxx:570   WARN| Unable to factor linear system\u001b[0m\n",
      "  6%|▋         | 4796/76355 [00:28<07:45, 153.87it/s]\u001b[0m\u001b[33m2025-03-17 06:30:49.324 ( 122.634s) [          3B18FC]            vtkMath.cxx:570   WARN| Unable to factor linear system\u001b[0m\n",
      "  7%|▋         | 5500/76355 [00:32<06:23, 184.97it/s]\u001b[0m\u001b[33m2025-03-17 06:30:53.356 ( 126.666s) [          3B18FC]      vtkDelaunay3D.cxx:514   WARN| vtkDelaunay3D (0x169314770): 1 degenerate triangles encountered, mesh quality suspect\u001b[0m\n",
      "  9%|▉         | 7165/76355 [00:41<06:19, 182.19it/s]\u001b[0m\u001b[33m2025-03-17 06:31:03.002 ( 136.312s) [          3B18FC]      vtkDelaunay3D.cxx:514   WARN| vtkDelaunay3D (0x17d8ecaa0): 1 degenerate triangles encountered, mesh quality suspect\u001b[0m\n",
      " 11%|█         | 8384/76355 [00:49<05:50, 194.04it/s]\u001b[0m\u001b[33m2025-03-17 06:31:10.226 ( 143.536s) [          3B18FC]            vtkMath.cxx:570   WARN| Unable to factor linear system\u001b[0m\n",
      " 11%|█▏        | 8691/76355 [00:50<06:22, 176.91it/s]\u001b[0m\u001b[33m2025-03-17 06:31:12.142 ( 145.452s) [          3B18FC]      vtkDelaunay3D.cxx:514   WARN| vtkDelaunay3D (0x301618b40): 1 degenerate triangles encountered, mesh quality suspect\u001b[0m\n",
      " 13%|█▎        | 10120/76355 [00:59<06:15, 176.22it/s]\u001b[0m\u001b[33m2025-03-17 06:31:20.426 ( 153.736s) [          3B18FC]      vtkDelaunay3D.cxx:514   WARN| vtkDelaunay3D (0x30537bc00): 1 degenerate triangles encountered, mesh quality suspect\u001b[0m\n",
      " 14%|█▎        | 10341/76355 [01:00<06:26, 170.64it/s]\u001b[0m\u001b[33m2025-03-17 06:31:21.660 ( 154.970s) [          3B18FC]      vtkDelaunay3D.cxx:514   WARN| vtkDelaunay3D (0x30671fcf0): 1 degenerate triangles encountered, mesh quality suspect\u001b[0m\n",
      " 14%|█▍        | 10686/76355 [01:02<06:23, 171.31it/s]\u001b[0m\u001b[33m2025-03-17 06:31:23.638 ( 156.948s) [          3B18FC]      vtkDelaunay3D.cxx:514   WARN| vtkDelaunay3D (0x307433bc0): 1 degenerate triangles encountered, mesh quality suspect\u001b[0m\n",
      " 14%|█▍        | 10725/76355 [01:02<06:17, 173.91it/s]\u001b[0m\u001b[33m2025-03-17 06:31:23.847 ( 157.157s) [          3B18FC]      vtkDelaunay3D.cxx:514   WARN| vtkDelaunay3D (0x307738460): 1 degenerate triangles encountered, mesh quality suspect\u001b[0m\n",
      " 16%|█▌        | 12219/76355 [01:11<06:16, 170.32it/s]\u001b[0m\u001b[33m2025-03-17 06:31:32.508 ( 165.817s) [          3B18FC]            vtkMath.cxx:570   WARN| Unable to factor linear system\u001b[0m\n",
      " 17%|█▋        | 12798/76355 [01:14<06:06, 173.36it/s]\u001b[0m\u001b[33m2025-03-17 06:31:35.811 ( 169.121s) [          3B18FC]      vtkDelaunay3D.cxx:514   WARN| vtkDelaunay3D (0x30c3e0740): 1 degenerate triangles encountered, mesh quality suspect\u001b[0m\n",
      " 17%|█▋        | 13000/76355 [01:15<06:00, 175.65it/s]\u001b[0m\u001b[33m2025-03-17 06:31:36.920 ( 170.230s) [          3B18FC]      vtkDelaunay3D.cxx:514   WARN| vtkDelaunay3D (0x30c8e1a20): 1 degenerate triangles encountered, mesh quality suspect\u001b[0m\n",
      " 18%|█▊        | 13727/76355 [01:20<06:16, 166.36it/s]\u001b[0m\u001b[33m2025-03-17 06:31:41.231 ( 174.541s) [          3B18FC]      vtkDelaunay3D.cxx:514   WARN| vtkDelaunay3D (0x30f862200): 1 degenerate triangles encountered, mesh quality suspect\u001b[0m\n",
      " 19%|█▉        | 14402/76355 [01:23<06:29, 159.08it/s]\u001b[0m\u001b[33m2025-03-17 06:31:45.120 ( 178.430s) [          3B18FC]      vtkDelaunay3D.cxx:514   WARN| vtkDelaunay3D (0x311731b20): 1 degenerate triangles encountered, mesh quality suspect\u001b[0m\n",
      " 19%|█▉        | 14613/76355 [01:25<05:59, 171.78it/s]\u001b[0m\u001b[33m2025-03-17 06:31:46.263 ( 179.573s) [          3B18FC]      vtkDelaunay3D.cxx:514   WARN| vtkDelaunay3D (0x311e72cb0): 1 degenerate triangles encountered, mesh quality suspect\u001b[0m\n",
      " 20%|█▉        | 15043/76355 [01:27<05:44, 177.95it/s]\u001b[0m\u001b[33m2025-03-17 06:31:48.749 ( 182.059s) [          3B18FC]            vtkMath.cxx:570   WARN| Unable to factor linear system\u001b[0m\n",
      " 20%|█▉        | 15079/76355 [01:27<05:54, 172.94it/s]\u001b[0m\u001b[33m2025-03-17 06:31:48.947 ( 182.256s) [          3B18FC]      vtkDelaunay3D.cxx:514   WARN| vtkDelaunay3D (0x312fece50): 1 degenerate triangles encountered, mesh quality suspect\u001b[0m\n",
      " 20%|██        | 15394/76355 [01:29<05:54, 172.00it/s]\u001b[0m\u001b[33m2025-03-17 06:31:50.809 ( 184.119s) [          3B18FC]      vtkDelaunay3D.cxx:514   WARN| vtkDelaunay3D (0x313b1fa90): 1 degenerate triangles encountered, mesh quality suspect\u001b[0m\n",
      " 21%|██        | 15906/76355 [01:32<06:01, 167.33it/s]\u001b[0m\u001b[33m2025-03-17 06:31:53.844 ( 187.154s) [          3B18FC]            vtkMath.cxx:570   WARN| Unable to factor linear system\u001b[0m\n",
      " 22%|██▏       | 16591/76355 [01:36<06:03, 164.21it/s]\u001b[0m\u001b[33m2025-03-17 06:31:57.805 ( 191.115s) [          3B18FC]      vtkDelaunay3D.cxx:514   WARN| vtkDelaunay3D (0x316d973d0): 1 degenerate triangles encountered, mesh quality suspect\u001b[0m\n",
      " 22%|██▏       | 16740/76355 [01:37<05:32, 179.43it/s]\u001b[0m\u001b[33m2025-03-17 06:31:58.663 ( 191.972s) [          3B18FC]      vtkDelaunay3D.cxx:514   WARN| vtkDelaunay3D (0x316c48780): 1 degenerate triangles encountered, mesh quality suspect\u001b[0m\n",
      " 22%|██▏       | 16834/76355 [01:38<05:41, 174.07it/s]\u001b[0m\u001b[33m2025-03-17 06:31:59.236 ( 192.546s) [          3B18FC]      vtkDelaunay3D.cxx:514   WARN| vtkDelaunay3D (0x317948ac0): 1 degenerate triangles encountered, mesh quality suspect\u001b[0m\n",
      " 24%|██▍       | 18204/76355 [01:46<05:30, 176.01it/s]\u001b[0m\u001b[33m2025-03-17 06:32:07.163 ( 200.473s) [          3B18FC]      vtkDelaunay3D.cxx:514   WARN| vtkDelaunay3D (0x31bba6290): 1 degenerate triangles encountered, mesh quality suspect\u001b[0m\n",
      " 24%|██▍       | 18607/76355 [01:48<05:20, 180.41it/s]\u001b[0m\u001b[33m2025-03-17 06:32:09.475 ( 202.785s) [          3B18FC]            vtkMath.cxx:570   WARN| Unable to factor linear system\u001b[0m\n",
      " 25%|██▍       | 18843/76355 [01:49<05:35, 171.37it/s]\u001b[0m\u001b[33m2025-03-17 06:32:10.753 ( 204.063s) [          3B18FC]      vtkDelaunay3D.cxx:514   WARN| vtkDelaunay3D (0x31da1fd40): 1 degenerate triangles encountered, mesh quality suspect\u001b[0m\n",
      " 25%|██▍       | 18997/76355 [01:50<05:17, 180.81it/s]\u001b[0m\u001b[33m2025-03-17 06:32:11.547 ( 204.857s) [          3B18FC]      vtkDelaunay3D.cxx:514   WARN| vtkDelaunay3D (0x31dc80c70): 1 degenerate triangles encountered, mesh quality suspect\u001b[0m\n",
      "\u001b[0m\u001b[33m2025-03-17 06:32:11.599 ( 204.909s) [          3B18FC]      vtkDelaunay3D.cxx:514   WARN| vtkDelaunay3D (0x31dd63b40): 1 degenerate triangles encountered, mesh quality suspect\u001b[0m\n",
      " 25%|██▌       | 19349/76355 [01:52<05:12, 182.32it/s]\u001b[0m\u001b[33m2025-03-17 06:32:13.584 ( 206.894s) [          3B18FC]            vtkMath.cxx:570   WARN| Unable to factor linear system\u001b[0m\n",
      " 26%|██▋       | 20097/76355 [01:56<05:23, 174.09it/s]\u001b[0m\u001b[33m2025-03-17 06:32:17.938 ( 211.248s) [          3B18FC]      vtkDelaunay3D.cxx:514   WARN| vtkDelaunay3D (0x3206b4210): 1 degenerate triangles encountered, mesh quality suspect\u001b[0m\n",
      " 26%|██▋       | 20152/76355 [01:57<05:25, 172.79it/s]\u001b[0m\u001b[33m2025-03-17 06:32:18.274 ( 211.584s) [          3B18FC]            vtkMath.cxx:570   WARN| Unable to factor linear system\u001b[0m\n",
      " 27%|██▋       | 20404/76355 [01:58<05:24, 172.29it/s]\u001b[0m\u001b[33m2025-03-17 06:32:19.726 ( 213.035s) [          3B18FC]            vtkMath.cxx:570   WARN| Unable to factor linear system\u001b[0m\n",
      " 27%|██▋       | 20788/76355 [02:00<05:27, 169.48it/s]\u001b[0m\u001b[33m2025-03-17 06:32:21.964 ( 215.274s) [          3B18FC]            vtkMath.cxx:570   WARN| Unable to factor linear system\u001b[0m\n",
      " 28%|██▊       | 21212/76355 [02:03<05:36, 164.02it/s]\u001b[0m\u001b[33m2025-03-17 06:32:24.437 ( 217.746s) [          3B18FC]            vtkMath.cxx:570   WARN| Unable to factor linear system\u001b[0m\n",
      " 29%|██▉       | 22308/76355 [02:09<05:11, 173.31it/s]\u001b[0m\u001b[33m2025-03-17 06:32:30.719 ( 224.029s) [          3B18FC]      vtkDelaunay3D.cxx:514   WARN| vtkDelaunay3D (0x3271982d0): 1 degenerate triangles encountered, mesh quality suspect\u001b[0m\n",
      " 30%|██▉       | 22589/76355 [02:11<05:20, 168.00it/s]\u001b[0m\u001b[33m2025-03-17 06:32:32.417 ( 225.727s) [          3B18FC]      vtkDelaunay3D.cxx:514   WARN| vtkDelaunay3D (0x328687db0): 1 degenerate triangles encountered, mesh quality suspect\u001b[0m\n",
      " 30%|███       | 23011/76355 [02:13<04:58, 179.00it/s]\u001b[0m\u001b[33m2025-03-17 06:32:34.848 ( 228.158s) [          3B18FC]      vtkDelaunay3D.cxx:514   WARN| vtkDelaunay3D (0x329468120): 1 degenerate triangles encountered, mesh quality suspect\u001b[0m\n",
      " 33%|███▎      | 25252/76355 [02:26<05:04, 167.66it/s]\u001b[0m\u001b[33m2025-03-17 06:32:47.684 ( 240.993s) [          3B18FC]      vtkDelaunay3D.cxx:514   WARN| vtkDelaunay3D (0x32ff4bfa0): 1 degenerate triangles encountered, mesh quality suspect\u001b[0m\n",
      " 35%|███▍      | 26511/76355 [02:33<04:38, 178.66it/s]\u001b[0m\u001b[33m2025-03-17 06:32:54.809 ( 248.119s) [          3B18FC]            vtkMath.cxx:570   WARN| Unable to factor linear system\u001b[0m\n",
      " 35%|███▌      | 26786/76355 [02:35<04:48, 171.99it/s]\u001b[0m\u001b[33m2025-03-17 06:32:56.356 ( 249.665s) [          3B18FC]            vtkMath.cxx:570   WARN| Unable to factor linear system\u001b[0m\n",
      " 37%|███▋      | 28219/76355 [02:43<04:26, 180.39it/s]\u001b[0m\u001b[33m2025-03-17 06:33:04.593 ( 257.903s) [          3B18FC]      vtkDelaunay3D.cxx:514   WARN| vtkDelaunay3D (0x347376cc0): 1 degenerate triangles encountered, mesh quality suspect\u001b[0m\n",
      " 39%|███▉      | 29699/76355 [02:51<04:45, 163.22it/s]\u001b[0m\u001b[33m2025-03-17 06:33:13.021 ( 266.330s) [          3B18FC]      vtkDelaunay3D.cxx:514   WARN| vtkDelaunay3D (0x34c3d1570): 1 degenerate triangles encountered, mesh quality suspect\u001b[0m\n",
      " 40%|███▉      | 30440/76355 [02:56<04:40, 163.97it/s]\u001b[0m\u001b[33m2025-03-17 06:33:17.313 ( 270.623s) [          3B18FC]      vtkDelaunay3D.cxx:514   WARN| vtkDelaunay3D (0x34df176e0): 1 degenerate triangles encountered, mesh quality suspect\u001b[0m\n",
      " 40%|████      | 30887/76355 [02:59<04:37, 163.58it/s]\u001b[0m\u001b[33m2025-03-17 06:33:20.105 ( 273.414s) [          3B18FC]      vtkDelaunay3D.cxx:514   WARN| vtkDelaunay3D (0x34f1bdc90): 1 degenerate triangles encountered, mesh quality suspect\u001b[0m\n",
      " 41%|████▏     | 31673/76355 [03:03<04:16, 174.30it/s]\u001b[0m\u001b[33m2025-03-17 06:33:24.565 ( 277.874s) [          3B18FC]      vtkDelaunay3D.cxx:514   WARN| vtkDelaunay3D (0x3513bc770): 1 degenerate triangles encountered, mesh quality suspect\u001b[0m\n",
      " 42%|████▏     | 31823/76355 [03:04<04:29, 165.39it/s]\u001b[0m\u001b[33m2025-03-17 06:33:25.432 ( 278.741s) [          3B18FC]      vtkDelaunay3D.cxx:514   WARN| vtkDelaunay3D (0x351274130): 1 degenerate triangles encountered, mesh quality suspect\u001b[0m\n",
      " 44%|████▎     | 33372/76355 [03:13<04:17, 166.97it/s]\u001b[0m\u001b[33m2025-03-17 06:33:34.209 ( 287.519s) [          3B18FC]      vtkDelaunay3D.cxx:514   WARN| vtkDelaunay3D (0x356144870): 1 degenerate triangles encountered, mesh quality suspect\u001b[0m\n",
      " 45%|████▌     | 34543/76355 [03:19<03:56, 176.62it/s]\u001b[0m\u001b[33m2025-03-17 06:33:40.750 ( 294.060s) [          3B18FC]      vtkDelaunay3D.cxx:514   WARN| vtkDelaunay3D (0x359a45e30): 1 degenerate triangles encountered, mesh quality suspect\u001b[0m\n",
      " 46%|████▌     | 34915/76355 [03:21<04:01, 171.68it/s]\u001b[0m\u001b[33m2025-03-17 06:33:42.976 ( 296.285s) [          3B18FC]      vtkDelaunay3D.cxx:514   WARN| vtkDelaunay3D (0x35a4ebdd0): 1 degenerate triangles encountered, mesh quality suspect\u001b[0m\n",
      " 46%|████▌     | 35172/76355 [03:23<03:58, 172.70it/s]\u001b[0m\u001b[33m2025-03-17 06:33:44.443 ( 297.753s) [          3B18FC]            vtkMath.cxx:570   WARN| Unable to factor linear system\u001b[0m\n",
      " 46%|████▋     | 35409/76355 [03:24<04:00, 170.07it/s]\u001b[0m\u001b[33m2025-03-17 06:33:45.787 ( 299.096s) [          3B18FC]      vtkDelaunay3D.cxx:514   WARN| vtkDelaunay3D (0x35b859780): 1 degenerate triangles encountered, mesh quality suspect\u001b[0m\n",
      " 47%|████▋     | 35556/76355 [03:25<03:46, 179.79it/s]\u001b[0m\u001b[33m2025-03-17 06:33:46.717 ( 300.026s) [          3B18FC]      vtkDelaunay3D.cxx:514   WARN| vtkDelaunay3D (0x35bdd6ca0): 1 degenerate triangles encountered, mesh quality suspect\u001b[0m\n",
      " 48%|████▊     | 36573/76355 [03:31<03:38, 181.80it/s]\u001b[0m\u001b[33m2025-03-17 06:33:52.335 ( 305.644s) [          3B18FC]      vtkDelaunay3D.cxx:514   WARN| vtkDelaunay3D (0x35f07a290): 1 degenerate triangles encountered, mesh quality suspect\u001b[0m\n",
      " 48%|████▊     | 36890/76355 [03:33<03:47, 173.40it/s]\u001b[0m\u001b[33m2025-03-17 06:33:54.175 ( 307.484s) [          3B18FC]            vtkMath.cxx:570   WARN| Unable to factor linear system\u001b[0m\n",
      " 48%|████▊     | 36926/76355 [03:33<03:56, 166.47it/s]\u001b[0m\u001b[33m2025-03-17 06:33:54.483 ( 307.793s) [          3B18FC]      vtkDelaunay3D.cxx:514   WARN| vtkDelaunay3D (0x35fbc1ef0): 1 degenerate triangles encountered, mesh quality suspect\u001b[0m\n",
      " 50%|████▉     | 37981/76355 [03:39<03:31, 181.03it/s]\u001b[0m\u001b[33m2025-03-17 06:34:00.455 ( 313.764s) [          3B18FC]      vtkDelaunay3D.cxx:514   WARN| vtkDelaunay3D (0x362f338d0): 1 degenerate triangles encountered, mesh quality suspect\u001b[0m\n",
      " 51%|█████     | 38704/76355 [03:43<03:22, 186.09it/s]\u001b[0m\u001b[33m2025-03-17 06:34:04.510 ( 317.819s) [          3B18FC]            vtkMath.cxx:570   WARN| Unable to factor linear system\u001b[0m\n",
      " 51%|█████     | 39102/76355 [03:45<03:22, 184.40it/s]\u001b[0m\u001b[33m2025-03-17 06:34:06.742 ( 320.052s) [          3B18FC]            vtkMath.cxx:570   WARN| Unable to factor linear system\u001b[0m\n",
      " 51%|█████▏    | 39195/76355 [03:46<03:37, 170.73it/s]\u001b[0m\u001b[33m2025-03-17 06:34:07.397 ( 320.706s) [          3B18FC]      vtkDelaunay3D.cxx:514   WARN| vtkDelaunay3D (0x366a93bd0): 1 degenerate triangles encountered, mesh quality suspect\u001b[0m\n",
      " 52%|█████▏    | 39845/76355 [03:49<03:15, 186.68it/s]\u001b[0m\u001b[33m2025-03-17 06:34:10.945 ( 324.254s) [          3B18FC]      vtkDelaunay3D.cxx:514   WARN| vtkDelaunay3D (0x367de1020): 1 degenerate triangles encountered, mesh quality suspect\u001b[0m\n",
      " 52%|█████▏    | 40053/76355 [03:51<03:23, 178.78it/s]\u001b[0m\u001b[33m2025-03-17 06:34:12.116 ( 325.425s) [          3B18FC]      vtkDelaunay3D.cxx:514   WARN| vtkDelaunay3D (0x36891b4c0): 1 degenerate triangles encountered, mesh quality suspect\u001b[0m\n",
      " 53%|█████▎    | 40169/76355 [03:51<03:19, 181.64it/s]\u001b[0m\u001b[33m2025-03-17 06:34:12.771 ( 326.080s) [          3B18FC]      vtkDelaunay3D.cxx:514   WARN| vtkDelaunay3D (0x368c5b3d0): 1 degenerate triangles encountered, mesh quality suspect\u001b[0m\n",
      " 54%|█████▎    | 41026/76355 [03:56<03:37, 162.14it/s]\u001b[0m\u001b[33m2025-03-17 06:34:17.625 ( 330.935s) [          3B18FC]      vtkDelaunay3D.cxx:514   WARN| vtkDelaunay3D (0x36b3577d0): 1 degenerate triangles encountered, mesh quality suspect\u001b[0m\n",
      " 54%|█████▍    | 41233/76355 [03:57<03:23, 172.92it/s]\u001b[0m\u001b[33m2025-03-17 06:34:18.802 ( 332.111s) [          3B18FC]      vtkDelaunay3D.cxx:514   WARN| vtkDelaunay3D (0x36b48da30): 1 degenerate triangles encountered, mesh quality suspect\u001b[0m\n",
      " 54%|█████▍    | 41485/76355 [03:59<03:02, 191.20it/s]\u001b[0m\u001b[33m2025-03-17 06:34:20.178 ( 333.487s) [          3B18FC]      vtkDelaunay3D.cxx:514   WARN| vtkDelaunay3D (0x36c788af0): 1 degenerate triangles encountered, mesh quality suspect\u001b[0m\n",
      " 55%|█████▍    | 41945/76355 [04:01<03:19, 172.87it/s]\u001b[0m\u001b[33m2025-03-17 06:34:22.878 ( 336.187s) [          3B18FC]            vtkMath.cxx:570   WARN| Unable to factor linear system\u001b[0m\n",
      " 55%|█████▌    | 42042/76355 [04:02<03:12, 177.85it/s]\u001b[0m\u001b[33m2025-03-17 06:34:23.381 ( 336.690s) [          3B18FC]      vtkDelaunay3D.cxx:514   WARN| vtkDelaunay3D (0x36de581d0): 1 degenerate triangles encountered, mesh quality suspect\u001b[0m\n",
      " 55%|█████▌    | 42227/76355 [04:03<03:18, 171.55it/s]\u001b[0m\u001b[33m2025-03-17 06:34:24.482 ( 337.791s) [          3B18FC]      vtkDelaunay3D.cxx:514   WARN| vtkDelaunay3D (0x36eca57b0): 1 degenerate triangles encountered, mesh quality suspect\u001b[0m\n",
      " 55%|█████▌    | 42285/76355 [04:03<03:11, 177.78it/s]\u001b[0m\u001b[33m2025-03-17 06:34:24.748 ( 338.057s) [          3B18FC]            vtkMath.cxx:570   WARN| Unable to factor linear system\u001b[0m\n",
      " 56%|█████▌    | 42653/76355 [04:05<03:03, 183.83it/s]\u001b[0m\u001b[33m2025-03-17 06:34:26.866 ( 340.175s) [          3B18FC]            vtkMath.cxx:570   WARN| Unable to factor linear system\u001b[0m\n",
      " 56%|█████▌    | 42727/76355 [04:06<03:16, 170.83it/s]\u001b[0m\u001b[33m2025-03-17 06:34:27.243 ( 340.552s) [          3B18FC]            vtkMath.cxx:570   WARN| Unable to factor linear system\u001b[0m\n",
      " 57%|█████▋    | 43631/76355 [04:11<03:07, 174.72it/s]\u001b[0m\u001b[33m2025-03-17 06:34:32.563 ( 345.872s) [          3B18FC]      vtkDelaunay3D.cxx:514   WARN| vtkDelaunay3D (0x372957d10): 1 degenerate triangles encountered, mesh quality suspect\u001b[0m\n",
      " 58%|█████▊    | 44077/76355 [04:14<02:53, 186.30it/s]\u001b[0m\u001b[33m2025-03-17 06:34:35.131 ( 348.440s) [          3B18FC]      vtkDelaunay3D.cxx:514   WARN| vtkDelaunay3D (0x3735ca4b0): 1 degenerate triangles encountered, mesh quality suspect\u001b[0m\n",
      " 59%|█████▉    | 44893/76355 [04:18<02:42, 193.15it/s]\u001b[0m\u001b[33m2025-03-17 06:34:39.779 ( 353.088s) [          3B18FC]      vtkDelaunay3D.cxx:514   WARN| vtkDelaunay3D (0x3756e7dc0): 1 degenerate triangles encountered, mesh quality suspect\u001b[0m\n",
      " 59%|█████▉    | 45177/76355 [04:20<02:54, 178.95it/s]\u001b[0m\u001b[33m2025-03-17 06:34:41.425 ( 354.734s) [          3B18FC]      vtkDelaunay3D.cxx:514   WARN| vtkDelaunay3D (0x376fcecd0): 1 degenerate triangles encountered, mesh quality suspect\u001b[0m\n",
      " 59%|█████▉    | 45367/76355 [04:21<03:03, 169.17it/s]\u001b[0m\u001b[33m2025-03-17 06:34:42.522 ( 355.831s) [          3B18FC]      vtkDelaunay3D.cxx:514   WARN| vtkDelaunay3D (0x377ce9d40): 1 degenerate triangles encountered, mesh quality suspect\u001b[0m\n",
      " 60%|█████▉    | 45638/76355 [04:22<02:46, 184.13it/s]\u001b[0m\u001b[33m2025-03-17 06:34:44.075 ( 357.384s) [          3B18FC]            vtkMath.cxx:570   WARN| Unable to factor linear system\u001b[0m\n",
      " 61%|██████    | 46449/76355 [04:27<02:48, 177.32it/s]\u001b[0m\u001b[33m2025-03-17 06:34:48.889 ( 362.198s) [          3B18FC]      vtkDelaunay3D.cxx:514   WARN| vtkDelaunay3D (0x37a6c2ff0): 1 degenerate triangles encountered, mesh quality suspect\u001b[0m\n",
      " 63%|██████▎   | 47740/76355 [04:35<02:48, 170.13it/s]\u001b[0m\u001b[33m2025-03-17 06:34:56.362 ( 369.671s) [          3B18FC]      vtkDelaunay3D.cxx:514   WARN| vtkDelaunay3D (0x37e4abfb0): 1 degenerate triangles encountered, mesh quality suspect\u001b[0m\n",
      " 63%|██████▎   | 48392/76355 [04:39<02:45, 168.93it/s]\u001b[0m\u001b[33m2025-03-17 06:35:00.157 ( 373.466s) [          3B18FC]      vtkDelaunay3D.cxx:514   WARN| vtkDelaunay3D (0x38013f5e0): 1 degenerate triangles encountered, mesh quality suspect\u001b[0m\n",
      " 64%|██████▎   | 48505/76355 [04:39<02:35, 178.67it/s]\u001b[0m\u001b[33m2025-03-17 06:35:00.810 ( 374.119s) [          3B18FC]      vtkDelaunay3D.cxx:514   WARN| vtkDelaunay3D (0x38056b1f0): 1 degenerate triangles encountered, mesh quality suspect\u001b[0m\n",
      " 65%|██████▌   | 49689/76355 [04:46<02:45, 161.51it/s]\u001b[0m\u001b[33m2025-03-17 06:35:07.729 ( 381.038s) [          3B18FC]      vtkDelaunay3D.cxx:514   WARN| vtkDelaunay3D (0x3831e0390): 1 degenerate triangles encountered, mesh quality suspect\u001b[0m\n",
      " 67%|██████▋   | 50786/76355 [04:53<02:32, 167.38it/s]\u001b[0m\u001b[33m2025-03-17 06:35:14.409 ( 387.718s) [          3B18FC]      vtkDelaunay3D.cxx:514   WARN| vtkDelaunay3D (0x3867ced80): 1 degenerate triangles encountered, mesh quality suspect\u001b[0m\n",
      " 67%|██████▋   | 51223/76355 [04:55<02:26, 171.16it/s]\u001b[0m\u001b[33m2025-03-17 06:35:16.884 ( 390.193s) [          3B18FC]            vtkMath.cxx:570   WARN| Unable to factor linear system\u001b[0m\n",
      " 68%|██████▊   | 51608/76355 [04:58<02:32, 162.37it/s]\u001b[0m\u001b[33m2025-03-17 06:35:19.364 ( 392.673s) [          3B18FC]      vtkDelaunay3D.cxx:514   WARN| vtkDelaunay3D (0x3886c5c90): 1 degenerate triangles encountered, mesh quality suspect\u001b[0m\n",
      " 69%|██████▉   | 52502/76355 [05:03<02:25, 164.14it/s]\u001b[0m\u001b[33m2025-03-17 06:35:24.792 ( 398.100s) [          3B18FC]            vtkMath.cxx:570   WARN| Unable to factor linear system\u001b[0m\n",
      " 69%|██████▉   | 52848/76355 [05:05<02:19, 168.80it/s]\u001b[0m\u001b[33m2025-03-17 06:35:26.822 ( 400.131s) [          3B18FC]      vtkDelaunay3D.cxx:514   WARN| vtkDelaunay3D (0x38c4570e0): 1 degenerate triangles encountered, mesh quality suspect\u001b[0m\n",
      " 70%|██████▉   | 53362/76355 [05:08<02:20, 163.65it/s]\u001b[0m\u001b[33m2025-03-17 06:35:29.768 ( 403.077s) [          3B18FC]      vtkDelaunay3D.cxx:514   WARN| vtkDelaunay3D (0x38dc6a980): 1 degenerate triangles encountered, mesh quality suspect\u001b[0m\n",
      " 71%|███████   | 54360/76355 [05:14<02:01, 181.09it/s]\u001b[0m\u001b[33m2025-03-17 06:35:35.621 ( 408.930s) [          3B18FC]            vtkMath.cxx:570   WARN| Unable to factor linear system\u001b[0m\n",
      " 72%|███████▏  | 54752/76355 [05:16<02:03, 174.70it/s]\u001b[0m\u001b[33m2025-03-17 06:35:37.997 ( 411.306s) [          3B18FC]      vtkDelaunay3D.cxx:514   WARN| vtkDelaunay3D (0x3915c9a30): 1 degenerate triangles encountered, mesh quality suspect\u001b[0m\n",
      " 72%|███████▏  | 55348/76355 [05:20<02:06, 165.96it/s]\u001b[0m\u001b[33m2025-03-17 06:35:41.430 ( 414.739s) [          3B18FC]      vtkDelaunay3D.cxx:514   WARN| vtkDelaunay3D (0x392dd1100): 1 degenerate triangles encountered, mesh quality suspect\u001b[0m\n",
      " 73%|███████▎  | 55457/76355 [05:20<02:04, 168.38it/s]\u001b[0m\u001b[33m2025-03-17 06:35:42.127 ( 415.436s) [          3B18FC]      vtkDelaunay3D.cxx:514   WARN| vtkDelaunay3D (0x392ba4be0): 1 degenerate triangles encountered, mesh quality suspect\u001b[0m\n",
      " 74%|███████▍  | 56487/76355 [05:27<01:55, 172.23it/s]\u001b[0m\u001b[33m2025-03-17 06:35:48.078 ( 421.387s) [          3B18FC]            vtkMath.cxx:570   WARN| Unable to factor linear system\u001b[0m\n",
      " 74%|███████▍  | 56585/76355 [05:27<01:48, 181.82it/s]\u001b[0m\u001b[33m2025-03-17 06:35:48.664 ( 421.973s) [          3B18FC]      vtkDelaunay3D.cxx:514   WARN| vtkDelaunay3D (0x396abdc90): 1 degenerate triangles encountered, mesh quality suspect\u001b[0m\n",
      " 74%|███████▍  | 56643/76355 [05:27<01:48, 180.95it/s]\u001b[0m\u001b[33m2025-03-17 06:35:48.938 ( 422.247s) [          3B18FC]      vtkDelaunay3D.cxx:514   WARN| vtkDelaunay3D (0x3969b36d0): 1 degenerate triangles encountered, mesh quality suspect\u001b[0m\n",
      " 75%|███████▌  | 57645/76355 [05:33<01:51, 167.81it/s]\u001b[0m\u001b[33m2025-03-17 06:35:54.875 ( 428.183s) [          3B18FC]            vtkMath.cxx:570   WARN| Unable to factor linear system\u001b[0m\n",
      " 76%|███████▌  | 58126/76355 [05:36<01:56, 156.39it/s]\u001b[0m\u001b[33m2025-03-17 06:35:58.022 ( 431.330s) [          3B18FC]      vtkDelaunay3D.cxx:514   WARN| vtkDelaunay3D (0x39b0937b0): 1 degenerate triangles encountered, mesh quality suspect\u001b[0m\n",
      " 77%|███████▋  | 58618/76355 [05:39<01:37, 182.70it/s]\u001b[0m\u001b[33m2025-03-17 06:36:00.898 ( 434.207s) [          3B18FC]            vtkMath.cxx:570   WARN| Unable to factor linear system\u001b[0m\n",
      " 77%|███████▋  | 58964/76355 [05:41<01:43, 168.65it/s]\u001b[0m\u001b[33m2025-03-17 06:36:02.880 ( 436.189s) [          3B18FC]            vtkMath.cxx:570   WARN| Unable to factor linear system\u001b[0m\n",
      " 79%|███████▊  | 60049/76355 [05:48<01:31, 179.02it/s]\u001b[0m\u001b[33m2025-03-17 06:36:09.102 ( 442.411s) [          3B18FC]            vtkMath.cxx:570   WARN| Unable to factor linear system\u001b[0m\n",
      " 80%|███████▉  | 60832/76355 [05:52<01:28, 176.25it/s]\u001b[0m\u001b[33m2025-03-17 06:36:13.702 ( 447.010s) [          3B18FC]      vtkDelaunay3D.cxx:514   WARN| vtkDelaunay3D (0x3a25f1fd0): 1 degenerate triangles encountered, mesh quality suspect\u001b[0m\n",
      " 80%|████████  | 61107/76355 [05:54<01:24, 180.98it/s]\u001b[0m\u001b[33m2025-03-17 06:36:15.196 ( 448.505s) [          3B18FC]            vtkMath.cxx:570   WARN| Unable to factor linear system\u001b[0m\n",
      " 81%|████████  | 61670/76355 [05:57<01:24, 174.04it/s]\u001b[0m\u001b[33m2025-03-17 06:36:18.468 ( 451.776s) [          3B18FC]      vtkDelaunay3D.cxx:514   WARN| vtkDelaunay3D (0x3a4fb10d0): 1 degenerate triangles encountered, mesh quality suspect\u001b[0m\n",
      " 81%|████████  | 61709/76355 [05:57<01:23, 174.85it/s]\u001b[0m\u001b[33m2025-03-17 06:36:18.647 ( 451.955s) [          3B18FC]      vtkDelaunay3D.cxx:514   WARN| vtkDelaunay3D (0x3a4cf6080): 1 degenerate triangles encountered, mesh quality suspect\u001b[0m\n",
      " 81%|████████  | 61960/76355 [05:59<01:19, 180.20it/s]\u001b[0m\u001b[33m2025-03-17 06:36:20.111 ( 453.420s) [          3B18FC]      vtkDelaunay3D.cxx:514   WARN| vtkDelaunay3D (0x3a5b21b80): 1 degenerate triangles encountered, mesh quality suspect\u001b[0m\n",
      " 81%|████████  | 62035/76355 [05:59<01:23, 171.70it/s]\u001b[0m\u001b[33m2025-03-17 06:36:20.607 ( 453.916s) [          3B18FC]      vtkDelaunay3D.cxx:514   WARN| vtkDelaunay3D (0x3a5f2f010): 1 degenerate triangles encountered, mesh quality suspect\u001b[0m\n",
      " 82%|████████▏ | 62842/76355 [06:04<01:18, 171.39it/s]\u001b[0m\u001b[33m2025-03-17 06:36:25.266 ( 458.575s) [          3B18FC]            vtkMath.cxx:570   WARN| Unable to factor linear system\u001b[0m\n",
      " 83%|████████▎ | 63116/76355 [06:05<01:21, 163.14it/s]\u001b[0m\u001b[33m2025-03-17 06:36:26.872 ( 460.180s) [          3B18FC]      vtkDelaunay3D.cxx:514   WARN| vtkDelaunay3D (0x3a91e87a0): 1 degenerate triangles encountered, mesh quality suspect\u001b[0m\n",
      " 85%|████████▌ | 65222/76355 [06:18<01:04, 171.83it/s]\u001b[0m\u001b[33m2025-03-17 06:36:39.327 ( 472.635s) [          3B18FC]            vtkMath.cxx:570   WARN| Unable to factor linear system\u001b[0m\n",
      " 86%|████████▌ | 65308/76355 [06:18<01:12, 151.96it/s]\u001b[0m\u001b[33m2025-03-17 06:36:39.963 ( 473.271s) [          3B18FC]      vtkDelaunay3D.cxx:514   WARN| vtkDelaunay3D (0x3aea8f880): 1 degenerate triangles encountered, mesh quality suspect\u001b[0m\n",
      " 86%|████████▌ | 65376/76355 [06:19<01:10, 155.73it/s]\u001b[0m\u001b[33m2025-03-17 06:36:40.295 ( 473.604s) [          3B18FC]      vtkDelaunay3D.cxx:514   WARN| vtkDelaunay3D (0x3aef0e840): 1 degenerate triangles encountered, mesh quality suspect\u001b[0m\n",
      " 86%|████████▌ | 65845/76355 [06:21<01:00, 172.58it/s]\u001b[0m\u001b[33m2025-03-17 06:36:43.017 ( 476.326s) [          3B18FC]      vtkDelaunay3D.cxx:514   WARN| vtkDelaunay3D (0x3b090b000): 1 degenerate triangles encountered, mesh quality suspect\u001b[0m\n",
      " 88%|████████▊ | 67322/76355 [06:30<00:52, 171.74it/s]\u001b[0m\u001b[33m2025-03-17 06:36:51.797 ( 485.105s) [          3B18FC]      vtkDelaunay3D.cxx:514   WARN| vtkDelaunay3D (0x3b4a82170): 1 degenerate triangles encountered, mesh quality suspect\u001b[0m\n",
      " 88%|████████▊ | 67374/76355 [06:31<00:55, 162.07it/s]\u001b[0m\u001b[33m2025-03-17 06:36:52.198 ( 485.507s) [          3B18FC]      vtkDelaunay3D.cxx:514   WARN| vtkDelaunay3D (0x3b4d6e6f0): 1 degenerate triangles encountered, mesh quality suspect\u001b[0m\n",
      " 89%|████████▉ | 67873/76355 [06:34<01:01, 136.95it/s]\u001b[0m\u001b[33m2025-03-17 06:36:55.324 ( 488.632s) [          3B18FC]      vtkDelaunay3D.cxx:514   WARN| vtkDelaunay3D (0x3d10e7250): 1 degenerate triangles encountered, mesh quality suspect\u001b[0m\n",
      " 89%|████████▉ | 67933/76355 [06:34<01:06, 126.26it/s]\u001b[0m\u001b[33m2025-03-17 06:36:55.869 ( 489.177s) [          3B18FC]      vtkDelaunay3D.cxx:514   WARN| vtkDelaunay3D (0x3d10c8e80): 1 degenerate triangles encountered, mesh quality suspect\u001b[0m\n",
      " 89%|████████▉ | 68103/76355 [06:35<00:53, 155.48it/s]\u001b[0m\u001b[33m2025-03-17 06:36:56.975 ( 490.284s) [          3B18FC]            vtkMath.cxx:570   WARN| Unable to factor linear system\u001b[0m\n",
      " 90%|████████▉ | 68360/76355 [06:37<00:47, 168.20it/s]\u001b[0m\u001b[33m2025-03-17 06:36:58.504 ( 491.812s) [          3B18FC]            vtkMath.cxx:570   WARN| Unable to factor linear system\u001b[0m\n",
      " 92%|█████████▏| 70587/76355 [06:50<00:31, 182.91it/s]\u001b[0m\u001b[33m2025-03-17 06:37:11.492 ( 504.800s) [          3B18FC]            vtkMath.cxx:570   WARN| Unable to factor linear system\u001b[0m\n",
      " 93%|█████████▎| 70664/76355 [06:50<00:31, 182.19it/s]\u001b[0m\u001b[33m2025-03-17 06:37:11.960 ( 505.268s) [          3B18FC]            vtkMath.cxx:570   WARN| Unable to factor linear system\u001b[0m\n",
      " 93%|█████████▎| 70779/76355 [06:51<00:32, 173.00it/s]\u001b[0m\u001b[33m2025-03-17 06:37:12.538 ( 505.846s) [          3B18FC]      vtkDelaunay3D.cxx:514   WARN| vtkDelaunay3D (0x3bc525940): 1 degenerate triangles encountered, mesh quality suspect\u001b[0m\n",
      " 93%|█████████▎| 70989/76355 [06:52<00:32, 165.66it/s]\u001b[0m\u001b[33m2025-03-17 06:37:13.797 ( 507.105s) [          3B18FC]            vtkMath.cxx:570   WARN| Unable to factor linear system\u001b[0m\n",
      " 94%|█████████▍| 71871/76355 [06:57<00:24, 184.13it/s]\u001b[0m\u001b[33m2025-03-17 06:37:18.917 ( 512.225s) [          3B18FC]      vtkDelaunay3D.cxx:514   WARN| vtkDelaunay3D (0x3bee4cea0): 1 degenerate triangles encountered, mesh quality suspect\u001b[0m\n",
      " 95%|█████████▌| 72624/76355 [07:02<00:21, 175.00it/s]\u001b[0m\u001b[33m2025-03-17 06:37:23.195 ( 516.504s) [          3B18FC]      vtkDelaunay3D.cxx:514   WARN| vtkDelaunay3D (0x3c1208630): 1 degenerate triangles encountered, mesh quality suspect\u001b[0m\n",
      " 96%|█████████▌| 73097/76355 [07:04<00:18, 176.23it/s]\u001b[0m\u001b[33m2025-03-17 06:37:25.902 ( 519.210s) [          3B18FC]      vtkDelaunay3D.cxx:514   WARN| vtkDelaunay3D (0x3c3c16290): 1 degenerate triangles encountered, mesh quality suspect\u001b[0m\n",
      " 97%|█████████▋| 74056/76355 [07:10<00:13, 171.84it/s]\u001b[0m\u001b[33m2025-03-17 06:37:31.464 ( 524.773s) [          3B18FC]            vtkMath.cxx:570   WARN| Unable to factor linear system\u001b[0m\n",
      " 97%|█████████▋| 74283/76355 [07:11<00:12, 161.16it/s]\u001b[0m\u001b[33m2025-03-17 06:37:32.731 ( 526.039s) [          3B18FC]      vtkDelaunay3D.cxx:514   WARN| vtkDelaunay3D (0x3c6655e80): 1 degenerate triangles encountered, mesh quality suspect\u001b[0m\n",
      " 97%|█████████▋| 74340/76355 [07:11<00:11, 174.89it/s]\u001b[0m\u001b[33m2025-03-17 06:37:33.020 ( 526.328s) [          3B18FC]      vtkDelaunay3D.cxx:514   WARN| vtkDelaunay3D (0x3c700c6d0): 1 degenerate triangles encountered, mesh quality suspect\u001b[0m\n",
      " 98%|█████████▊| 74651/76355 [07:13<00:10, 159.16it/s]\u001b[0m\u001b[33m2025-03-17 06:37:34.903 ( 528.211s) [          3B18FC]      vtkDelaunay3D.cxx:514   WARN| vtkDelaunay3D (0x3c7867b60): 1 degenerate triangles encountered, mesh quality suspect\u001b[0m\n",
      "100%|██████████| 76355/76355 [07:23<00:00, 171.98it/s]\n"
     ]
    }
   ],
   "source": [
    "# 7.5'\n",
    "n = -1\n",
    "tolerance = 2\n",
    "points_dict = {}\n",
    "centers_dict = {}\n",
    "meshes_dict = {}\n",
    "mins_dict = {}\n",
    "maxs_dict = {}\n",
    "for i, row in tqdm(df.head(n).iterrows(), total=len(df.head(n))):\n",
    "    points = [xy + (z,) for polygon, z in zip(row[\"geometry\"], row[z_column]) for xy in tuple(polygon.exterior.simplify(tolerance=tolerance).coords) ]\n",
    "    points_dict[i] = np.array(points)\n",
    "    centers_dict[i] = points_dict[i].mean(axis=0)\n",
    "    min_x, min_y, min_z = np.min(points_dict[i], axis=0)\n",
    "    mins_dict[i] = (min_x, min_y, min_z)\n",
    "    max_x, max_y, max_z = np.max(points_dict[i], axis=0)\n",
    "    maxs_dict[i] = (max_x, max_y, max_z)\n",
    "    point_cloud = vedo.Points(points_dict[i])\n",
    "    meshes_dict[i] = vedo.ConvexHull(point_cloud).triangulate().clean()\n",
    "df[\"mesh\"] = df.index.map(meshes_dict)"
   ]
  },
  {
   "cell_type": "code",
   "execution_count": null,
   "metadata": {},
   "outputs": [],
   "source": [
    "# Maybe not required\n",
    "df.dropna(subset=[\"mesh\"], inplace=True)"
   ]
  },
  {
   "cell_type": "code",
   "execution_count": null,
   "metadata": {},
   "outputs": [],
   "source": [
    "df[\"mesh\"] = pd.Series(meshes_dict)\n",
    "df[\"center\"] = pd.Series(centers_dict)\n",
    "df[\"n_faces\"] = df.mesh.apply(lambda x: len(x.cells))\n",
    "df[\"n_vertices\"] = df.mesh.apply(lambda x: len(x.vertices))\n",
    "df[[\"min_x\", \"min_y\", \"min_z\"]] = pd.DataFrame(mins_dict).T\n",
    "df[[\"max_x\", \"max_y\", \"max_z\"]] = pd.DataFrame(maxs_dict).T"
   ]
  },
  {
   "cell_type": "markdown",
   "metadata": {},
   "source": [
    "# Save meshes\n",
    "- TypeError: cannot pickle 'vtkmodules.vtkRenderingOpenGL2.vtkOpenGLProperty' object\n",
    "- Save features separately"
   ]
  },
  {
   "cell_type": "code",
   "execution_count": 103,
   "metadata": {},
   "outputs": [
    {
     "ename": "AttributeError",
     "evalue": "'DataFrame' object has no attribute 'difference'",
     "output_type": "error",
     "traceback": [
      "\u001b[0;31m---------------------------------------------------------------------------\u001b[0m",
      "\u001b[0;31mAttributeError\u001b[0m                            Traceback (most recent call last)",
      "\u001b[0;32m/var/folders/26/j14hr66d7n9__pxdb8cxgd4r0000gn/T/ipykernel_45887/1934467783.py\u001b[0m in \u001b[0;36m?\u001b[0;34m()\u001b[0m\n\u001b[0;32m----> 1\u001b[0;31m \u001b[0mdf\u001b[0m\u001b[0;34m[\u001b[0m\u001b[0mdf\u001b[0m\u001b[0;34m.\u001b[0m\u001b[0mdifference\u001b[0m\u001b[0;34m(\u001b[0m\u001b[0;34m\"mesh\"\u001b[0m\u001b[0;34m)\u001b[0m\u001b[0;34m]\u001b[0m\u001b[0;34m.\u001b[0m\u001b[0mto_pickle\u001b[0m\u001b[0;34m(\u001b[0m\u001b[0mdata_dir\u001b[0m \u001b[0;34m/\u001b[0m \u001b[0;34m\"boundaries_features.pkl\"\u001b[0m\u001b[0;34m)\u001b[0m\u001b[0;34m\u001b[0m\u001b[0;34m\u001b[0m\u001b[0m\n\u001b[0m",
      "\u001b[0;32m~/miniconda3/envs/napari-spatialdata/lib/python3.12/site-packages/pandas/core/generic.py\u001b[0m in \u001b[0;36m?\u001b[0;34m(self, name)\u001b[0m\n\u001b[1;32m   6295\u001b[0m             \u001b[0;32mand\u001b[0m \u001b[0mname\u001b[0m \u001b[0;32mnot\u001b[0m \u001b[0;32min\u001b[0m \u001b[0mself\u001b[0m\u001b[0;34m.\u001b[0m\u001b[0m_accessors\u001b[0m\u001b[0;34m\u001b[0m\u001b[0;34m\u001b[0m\u001b[0m\n\u001b[1;32m   6296\u001b[0m             \u001b[0;32mand\u001b[0m \u001b[0mself\u001b[0m\u001b[0;34m.\u001b[0m\u001b[0m_info_axis\u001b[0m\u001b[0;34m.\u001b[0m\u001b[0m_can_hold_identifiers_and_holds_name\u001b[0m\u001b[0;34m(\u001b[0m\u001b[0mname\u001b[0m\u001b[0;34m)\u001b[0m\u001b[0;34m\u001b[0m\u001b[0;34m\u001b[0m\u001b[0m\n\u001b[1;32m   6297\u001b[0m         \u001b[0;34m)\u001b[0m\u001b[0;34m:\u001b[0m\u001b[0;34m\u001b[0m\u001b[0;34m\u001b[0m\u001b[0m\n\u001b[1;32m   6298\u001b[0m             \u001b[0;32mreturn\u001b[0m \u001b[0mself\u001b[0m\u001b[0;34m[\u001b[0m\u001b[0mname\u001b[0m\u001b[0;34m]\u001b[0m\u001b[0;34m\u001b[0m\u001b[0;34m\u001b[0m\u001b[0m\n\u001b[0;32m-> 6299\u001b[0;31m         \u001b[0;32mreturn\u001b[0m \u001b[0mobject\u001b[0m\u001b[0;34m.\u001b[0m\u001b[0m__getattribute__\u001b[0m\u001b[0;34m(\u001b[0m\u001b[0mself\u001b[0m\u001b[0;34m,\u001b[0m \u001b[0mname\u001b[0m\u001b[0;34m)\u001b[0m\u001b[0;34m\u001b[0m\u001b[0;34m\u001b[0m\u001b[0m\n\u001b[0m",
      "\u001b[0;31mAttributeError\u001b[0m: 'DataFrame' object has no attribute 'difference'"
     ]
    }
   ],
   "source": [
    "df[df.difference(\"mesh\")].to_pickle(data_dir / \"boundaries_features.pkl\")"
   ]
  },
  {
   "cell_type": "code",
   "execution_count": 102,
   "metadata": {},
   "outputs": [
    {
     "name": "stderr",
     "output_type": "stream",
     "text": [
      "100%|██████████| 76355/76355 [00:17<00:00, 4436.09it/s]\n",
      "100%|██████████| 76355/76355 [07:35<00:00, 167.69it/s] \n",
      "100%|██████████| 76355/76355 [10:15<00:00, 124.12it/s]\n",
      "100%|██████████| 76355/76355 [00:28<00:00, 2685.37it/s]\n"
     ]
    }
   ],
   "source": [
    "# save meshes to vtk\n",
    "# But very long to store into ply and obj\n",
    "meshes_dir = (data_dir / \"meshes\")\n",
    "meshes_dir.mkdir(exist_ok=True)\n",
    "for extension in [\"vtk\", \"ply\", \"obj\", \"stl\"]:\n",
    "    for i, row in tqdm(df.iterrows(), total=len(df)):\n",
    "        row[\"mesh\"].write(str(meshes_dir / f\"{i}.{extension}\"))"
   ]
  },
  {
   "cell_type": "markdown",
   "metadata": {},
   "source": [
    "# Concatenate meshes and ids"
   ]
  },
  {
   "cell_type": "code",
   "execution_count": 16,
   "metadata": {},
   "outputs": [],
   "source": [
    "# concatenate vedo meshes\n",
    "collection = vedo.merge(df.mesh.tolist())"
   ]
  },
  {
   "cell_type": "code",
   "execution_count": null,
   "metadata": {},
   "outputs": [],
   "source": [
    "for extension in tqdm([\"vtk\", \"obj\", \"stl\"]):\n",
    "    collection.write(str(data_dir / f\"meshes.{extension}\"))\n",
    "    break"
   ]
  },
  {
   "cell_type": "code",
   "execution_count": 19,
   "metadata": {},
   "outputs": [],
   "source": [
    "face_seg_id = []\n",
    "for i in range(len(df)):\n",
    "    face_seg_id.extend([i]*df.iloc[i][\"n_faces\"])\n",
    "vertex_seg_id = []\n",
    "for i in range(len(df)):\n",
    "    vertex_seg_id.extend([i]*df.iloc[i][\"n_vertices\"])"
   ]
  },
  {
   "cell_type": "markdown",
   "metadata": {},
   "source": [
    "# Compute vectors"
   ]
  },
  {
   "cell_type": "code",
   "execution_count": 85,
   "metadata": {},
   "outputs": [],
   "source": [
    "from sklearn.neighbors import NearestNeighbors\n",
    "n_neighbors = 3\n",
    "kn = NearestNeighbors(n_neighbors=n_neighbors)\n",
    "kn.fit(np.stack(df[\"center\"].values))\n",
    "_, indices = kn.kneighbors(np.stack(df[\"center\"].values))\n",
    "\n",
    "pairs = []\n",
    "for row in indices:\n",
    "    for neighbor in row[1:]:\n",
    "        pairs.append([row[0], neighbor])\n",
    "pairs = np.array(pairs)\n",
    "\n",
    "pairs = np.unique(pairs[np.argsort(pairs, axis=0)[:,0]], axis=0)\n",
    "\n",
    "centers = np.array(list(centers_dict.values()))\n",
    "\n",
    "vectors = centers[pairs]\n",
    "vectors[:,1] = centers[pairs[:,1]] - centers[pairs[:,0]]"
   ]
  },
  {
   "cell_type": "markdown",
   "metadata": {},
   "source": [
    "# Napari visualization"
   ]
  },
  {
   "cell_type": "code",
   "execution_count": null,
   "metadata": {},
   "outputs": [
    {
     "data": {
      "text/plain": [
       "<Points layer 'centers' at 0x6c9b26840>"
      ]
     },
     "execution_count": 20,
     "metadata": {},
     "output_type": "execute_result"
    },
    {
     "name": "stderr",
     "output_type": "stream",
     "text": [
      "2025-03-17 06:49:13.750 python[45887:3873020] +[IMKClient subclass]: chose IMKClient_Modern\n",
      "2025-03-17 06:49:13.750 python[45887:3873020] +[IMKInputSession subclass]: chose IMKInputSession_Modern\n"
     ]
    }
   ],
   "source": [
    "v = napari.Viewer()\n",
    "v.add_surface((collection.vertices, np.array(collection.cells), np.array(vertex_seg_id)), name=\"mesh\", opacity=0.5, colormap=\"viridis\")"
   ]
  },
  {
   "cell_type": "code",
   "execution_count": 46,
   "metadata": {},
   "outputs": [
    {
     "data": {
      "text/plain": [
       "<Points layer 'centers' at 0x45ed79d90>"
      ]
     },
     "execution_count": 46,
     "metadata": {},
     "output_type": "execute_result"
    }
   ],
   "source": [
    "v.add_points(np.stack(df[\"center\"].values), size=4, face_color='green', border_color=\"#00000000\", name=\"centers\")"
   ]
  },
  {
   "cell_type": "code",
   "execution_count": 86,
   "metadata": {},
   "outputs": [
    {
     "data": {
      "text/plain": [
       "<Vectors layer 'vectors' at 0x3e1419400>"
      ]
     },
     "execution_count": 86,
     "metadata": {},
     "output_type": "execute_result"
    },
    {
     "name": "stderr",
     "output_type": "stream",
     "text": [
      "2025-03-17 07:27:50.954 python[45887:3873020] _TIPropertyValueIsValid called with 16 on nil context!\n",
      "2025-03-17 07:27:50.954 python[45887:3873020] imkxpc_getApplicationProperty:reply: called with incorrect property value 16, bailing.\n",
      "2025-03-17 07:27:50.954 python[45887:3873020] Text input context does not respond to _valueForTIProperty:\n"
     ]
    }
   ],
   "source": [
    "v.add_vectors(vectors)"
   ]
  }
 ],
 "metadata": {
  "kernelspec": {
   "display_name": "napari-spatialdata",
   "language": "python",
   "name": "python3"
  },
  "language_info": {
   "codemirror_mode": {
    "name": "ipython",
    "version": 3
   },
   "file_extension": ".py",
   "mimetype": "text/x-python",
   "name": "python",
   "nbconvert_exporter": "python",
   "pygments_lexer": "ipython3",
   "version": "3.12.8"
  }
 },
 "nbformat": 4,
 "nbformat_minor": 2
}
